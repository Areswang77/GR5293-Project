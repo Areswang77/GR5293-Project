{
 "cells": [
  {
   "cell_type": "markdown",
   "metadata": {},
   "source": [
    "# GR5293 Project 1\n",
    "## Group member: Ares Wang(yw3626), "
   ]
  },
  {
   "cell_type": "code",
   "execution_count": 1,
   "metadata": {},
   "outputs": [],
   "source": [
    "import numpy as np\n",
    "import pandas as pd\n",
    "import sklearn as sk\n",
    "import matplotlib.pyplot as plt\n",
    "import seaborn as sns"
   ]
  },
  {
   "cell_type": "code",
   "execution_count": 2,
   "metadata": {},
   "outputs": [],
   "source": [
    "data =  pd.read_csv('dataset.csv', low_memory=False)"
   ]
  },
  {
   "cell_type": "code",
   "execution_count": 3,
   "metadata": {},
   "outputs": [
    {
     "data": {
      "text/html": [
       "<div>\n",
       "<style scoped>\n",
       "    .dataframe tbody tr th:only-of-type {\n",
       "        vertical-align: middle;\n",
       "    }\n",
       "\n",
       "    .dataframe tbody tr th {\n",
       "        vertical-align: top;\n",
       "    }\n",
       "\n",
       "    .dataframe thead th {\n",
       "        text-align: right;\n",
       "    }\n",
       "</style>\n",
       "<table border=\"1\" class=\"dataframe\">\n",
       "  <thead>\n",
       "    <tr style=\"text-align: right;\">\n",
       "      <th></th>\n",
       "      <th>ID</th>\n",
       "      <th>Client_Income</th>\n",
       "      <th>Car_Owned</th>\n",
       "      <th>Bike_Owned</th>\n",
       "      <th>Active_Loan</th>\n",
       "      <th>House_Own</th>\n",
       "      <th>Child_Count</th>\n",
       "      <th>Credit_Amount</th>\n",
       "      <th>Loan_Annuity</th>\n",
       "      <th>Accompany_Client</th>\n",
       "      <th>...</th>\n",
       "      <th>Client_Permanent_Match_Tag</th>\n",
       "      <th>Client_Contact_Work_Tag</th>\n",
       "      <th>Type_Organization</th>\n",
       "      <th>Score_Source_1</th>\n",
       "      <th>Score_Source_2</th>\n",
       "      <th>Score_Source_3</th>\n",
       "      <th>Social_Circle_Default</th>\n",
       "      <th>Phone_Change</th>\n",
       "      <th>Credit_Bureau</th>\n",
       "      <th>Default</th>\n",
       "    </tr>\n",
       "  </thead>\n",
       "  <tbody>\n",
       "    <tr>\n",
       "      <th>0</th>\n",
       "      <td>12142509</td>\n",
       "      <td>6750</td>\n",
       "      <td>0.0</td>\n",
       "      <td>0.0</td>\n",
       "      <td>1.0</td>\n",
       "      <td>0.0</td>\n",
       "      <td>0.0</td>\n",
       "      <td>61190.55</td>\n",
       "      <td>3416.85</td>\n",
       "      <td>Alone</td>\n",
       "      <td>...</td>\n",
       "      <td>Yes</td>\n",
       "      <td>Yes</td>\n",
       "      <td>Self-employed</td>\n",
       "      <td>0.568066</td>\n",
       "      <td>0.478787</td>\n",
       "      <td>NaN</td>\n",
       "      <td>0.0186</td>\n",
       "      <td>63.0</td>\n",
       "      <td>NaN</td>\n",
       "      <td>0</td>\n",
       "    </tr>\n",
       "    <tr>\n",
       "      <th>1</th>\n",
       "      <td>12138936</td>\n",
       "      <td>20250</td>\n",
       "      <td>1.0</td>\n",
       "      <td>0.0</td>\n",
       "      <td>1.0</td>\n",
       "      <td>NaN</td>\n",
       "      <td>0.0</td>\n",
       "      <td>15282</td>\n",
       "      <td>1826.55</td>\n",
       "      <td>Alone</td>\n",
       "      <td>...</td>\n",
       "      <td>Yes</td>\n",
       "      <td>Yes</td>\n",
       "      <td>Government</td>\n",
       "      <td>0.563360</td>\n",
       "      <td>0.215068</td>\n",
       "      <td>NaN</td>\n",
       "      <td>NaN</td>\n",
       "      <td>NaN</td>\n",
       "      <td>NaN</td>\n",
       "      <td>0</td>\n",
       "    </tr>\n",
       "    <tr>\n",
       "      <th>2</th>\n",
       "      <td>12181264</td>\n",
       "      <td>18000</td>\n",
       "      <td>0.0</td>\n",
       "      <td>0.0</td>\n",
       "      <td>1.0</td>\n",
       "      <td>0.0</td>\n",
       "      <td>1.0</td>\n",
       "      <td>59527.35</td>\n",
       "      <td>2788.2</td>\n",
       "      <td>Alone</td>\n",
       "      <td>...</td>\n",
       "      <td>Yes</td>\n",
       "      <td>Yes</td>\n",
       "      <td>Self-employed</td>\n",
       "      <td>NaN</td>\n",
       "      <td>0.552795</td>\n",
       "      <td>0.329655054</td>\n",
       "      <td>0.0742</td>\n",
       "      <td>277.0</td>\n",
       "      <td>0.0</td>\n",
       "      <td>0</td>\n",
       "    </tr>\n",
       "    <tr>\n",
       "      <th>3</th>\n",
       "      <td>12188929</td>\n",
       "      <td>15750</td>\n",
       "      <td>0.0</td>\n",
       "      <td>0.0</td>\n",
       "      <td>1.0</td>\n",
       "      <td>1.0</td>\n",
       "      <td>0.0</td>\n",
       "      <td>53870.4</td>\n",
       "      <td>2295.45</td>\n",
       "      <td>Alone</td>\n",
       "      <td>...</td>\n",
       "      <td>Yes</td>\n",
       "      <td>Yes</td>\n",
       "      <td>XNA</td>\n",
       "      <td>NaN</td>\n",
       "      <td>0.135182</td>\n",
       "      <td>0.631354537</td>\n",
       "      <td>NaN</td>\n",
       "      <td>1700.0</td>\n",
       "      <td>3.0</td>\n",
       "      <td>0</td>\n",
       "    </tr>\n",
       "    <tr>\n",
       "      <th>4</th>\n",
       "      <td>12133385</td>\n",
       "      <td>33750</td>\n",
       "      <td>1.0</td>\n",
       "      <td>0.0</td>\n",
       "      <td>1.0</td>\n",
       "      <td>0.0</td>\n",
       "      <td>2.0</td>\n",
       "      <td>133988.4</td>\n",
       "      <td>3547.35</td>\n",
       "      <td>Alone</td>\n",
       "      <td>...</td>\n",
       "      <td>Yes</td>\n",
       "      <td>Yes</td>\n",
       "      <td>Business Entity Type 3</td>\n",
       "      <td>0.508199</td>\n",
       "      <td>0.301182</td>\n",
       "      <td>0.355638717</td>\n",
       "      <td>0.2021</td>\n",
       "      <td>674.0</td>\n",
       "      <td>1.0</td>\n",
       "      <td>0</td>\n",
       "    </tr>\n",
       "  </tbody>\n",
       "</table>\n",
       "<p>5 rows × 40 columns</p>\n",
       "</div>"
      ],
      "text/plain": [
       "         ID Client_Income  Car_Owned  Bike_Owned  Active_Loan  House_Own  \\\n",
       "0  12142509          6750        0.0         0.0          1.0        0.0   \n",
       "1  12138936         20250        1.0         0.0          1.0        NaN   \n",
       "2  12181264         18000        0.0         0.0          1.0        0.0   \n",
       "3  12188929         15750        0.0         0.0          1.0        1.0   \n",
       "4  12133385         33750        1.0         0.0          1.0        0.0   \n",
       "\n",
       "   Child_Count Credit_Amount Loan_Annuity Accompany_Client  ...  \\\n",
       "0          0.0      61190.55      3416.85            Alone  ...   \n",
       "1          0.0         15282      1826.55            Alone  ...   \n",
       "2          1.0      59527.35       2788.2            Alone  ...   \n",
       "3          0.0       53870.4      2295.45            Alone  ...   \n",
       "4          2.0      133988.4      3547.35            Alone  ...   \n",
       "\n",
       "  Client_Permanent_Match_Tag Client_Contact_Work_Tag       Type_Organization  \\\n",
       "0                        Yes                     Yes           Self-employed   \n",
       "1                        Yes                     Yes              Government   \n",
       "2                        Yes                     Yes           Self-employed   \n",
       "3                        Yes                     Yes                     XNA   \n",
       "4                        Yes                     Yes  Business Entity Type 3   \n",
       "\n",
       "  Score_Source_1 Score_Source_2 Score_Source_3 Social_Circle_Default  \\\n",
       "0       0.568066       0.478787            NaN                0.0186   \n",
       "1       0.563360       0.215068            NaN                   NaN   \n",
       "2            NaN       0.552795    0.329655054                0.0742   \n",
       "3            NaN       0.135182    0.631354537                   NaN   \n",
       "4       0.508199       0.301182    0.355638717                0.2021   \n",
       "\n",
       "  Phone_Change Credit_Bureau Default  \n",
       "0         63.0           NaN       0  \n",
       "1          NaN           NaN       0  \n",
       "2        277.0           0.0       0  \n",
       "3       1700.0           3.0       0  \n",
       "4        674.0           1.0       0  \n",
       "\n",
       "[5 rows x 40 columns]"
      ]
     },
     "execution_count": 3,
     "metadata": {},
     "output_type": "execute_result"
    }
   ],
   "source": [
    "data.head()"
   ]
  },
  {
   "cell_type": "code",
   "execution_count": 4,
   "metadata": {},
   "outputs": [
    {
     "name": "stdout",
     "output_type": "stream",
     "text": [
      "Train data size: (121856, 40)\n"
     ]
    }
   ],
   "source": [
    "print(f'Train data size: {data.shape}')"
   ]
  },
  {
   "cell_type": "markdown",
   "metadata": {},
   "source": [
    "### Data clean"
   ]
  },
  {
   "cell_type": "code",
   "execution_count": 119,
   "metadata": {},
   "outputs": [],
   "source": [
    "# # Check duplicate data\n",
    "\n",
    "# d1 = sum(data.duplicated())\n",
    "# d2 = sum(test_data.duplicated())\n",
    "# print(f'The duplicated data in train dataset is {d1}')\n",
    "# print(f'The duplicated data in test dataset is {d2}')\n",
    "\n",
    "# # Remove any irralevent columns\n",
    "\n",
    "# drop_list = ['ID_Days',\n",
    "#              'ID',\n",
    "#              'Bike_Owned',\n",
    "#              'Accompany_Client',\n",
    "#              'Client_Gender',\n",
    "#              'Loan_Contract_Type',\n",
    "#              'Client_Housing_Type',\n",
    "#              'Population_Region_Relative',\n",
    "#              'Registration_Days',\n",
    "#              'Employed_Days',\n",
    "#              'Own_House_Age',\n",
    "#              'Mobile_Tag', \n",
    "#              'Homephone_Tag', \n",
    "#              'Workphone_Working', \n",
    "#              'Application_Process_Day', \n",
    "#              'Application_Process_Hour',\n",
    "#              'Client_Family_Members',\n",
    "#              'Cleint_City_Rating',\n",
    "#              'Client_Permanent_Match_Tag',\n",
    "#              'Client_Contact_Work_Tag',\n",
    "#              'Client_Occupation',\n",
    "#              'Type_Organization',\n",
    "#              'Phone_Change',\n",
    "#              'Credit_Bureau'] \n",
    "# data1 = data.drop(drop_list, axis=1)\n",
    "# data1.dtypes"
   ]
  },
  {
   "cell_type": "code",
   "execution_count": 5,
   "metadata": {},
   "outputs": [
    {
     "name": "stdout",
     "output_type": "stream",
     "text": [
      "The duplicated data in train dataset is 0\n"
     ]
    }
   ],
   "source": [
    "d1 = sum(data.duplicated())\n",
    "print(f'The duplicated data in train dataset is {d1}')"
   ]
  },
  {
   "cell_type": "code",
   "execution_count": 6,
   "metadata": {},
   "outputs": [
    {
     "data": {
      "text/plain": [
       "ID                                0\n",
       "Client_Income                  3607\n",
       "Car_Owned                      3581\n",
       "Bike_Owned                     3624\n",
       "Active_Loan                    3635\n",
       "House_Own                      3661\n",
       "Child_Count                    3638\n",
       "Credit_Amount                  3632\n",
       "Loan_Annuity                   4812\n",
       "Accompany_Client               1746\n",
       "Client_Income_Type             3701\n",
       "Client_Education               3645\n",
       "Client_Marital_Status          3473\n",
       "Client_Gender                  2413\n",
       "Loan_Contract_Type             3651\n",
       "Client_Housing_Type            3687\n",
       "Population_Region_Relative     4857\n",
       "Age_Days                       3600\n",
       "Employed_Days                  3649\n",
       "Registration_Days              3614\n",
       "ID_Days                        5968\n",
       "Own_House_Age                 80095\n",
       "Mobile_Tag                        0\n",
       "Homephone_Tag                     0\n",
       "Workphone_Working                 0\n",
       "Client_Occupation             41435\n",
       "Client_Family_Members          2410\n",
       "Cleint_City_Rating             2409\n",
       "Application_Process_Day        2428\n",
       "Application_Process_Hour       3663\n",
       "Client_Permanent_Match_Tag        0\n",
       "Client_Contact_Work_Tag           0\n",
       "Type_Organization              3609\n",
       "Score_Source_1                68835\n",
       "Score_Source_2                 5686\n",
       "Score_Source_3                26921\n",
       "Social_Circle_Default         61928\n",
       "Phone_Change                   3664\n",
       "Credit_Bureau                 18540\n",
       "Default                           0\n",
       "dtype: int64"
      ]
     },
     "execution_count": 6,
     "metadata": {},
     "output_type": "execute_result"
    }
   ],
   "source": [
    "data.isna().sum()"
   ]
  },
  {
   "cell_type": "code",
   "execution_count": 122,
   "metadata": {},
   "outputs": [
    {
     "data": {
      "text/plain": [
       "Client_Income                  object\n",
       "Car_Owned                     float64\n",
       "Bike_Owned                    float64\n",
       "Active_Loan                   float64\n",
       "House_Own                     float64\n",
       "Child_Count                   float64\n",
       "Credit_Amount                  object\n",
       "Loan_Annuity                   object\n",
       "Accompany_Client               object\n",
       "Client_Income_Type             object\n",
       "Client_Education               object\n",
       "Client_Marital_Status          object\n",
       "Client_Gender                  object\n",
       "Loan_Contract_Type             object\n",
       "Client_Housing_Type            object\n",
       "Population_Region_Relative     object\n",
       "Age_Days                       object\n",
       "Employed_Days                  object\n",
       "Registration_Days              object\n",
       "ID_Days                        object\n",
       "Mobile_Tag                      int64\n",
       "Homephone_Tag                   int64\n",
       "Workphone_Working               int64\n",
       "Client_Occupation              object\n",
       "Client_Family_Members         float64\n",
       "Cleint_City_Rating            float64\n",
       "Application_Process_Day       float64\n",
       "Application_Process_Hour      float64\n",
       "Client_Permanent_Match_Tag     object\n",
       "Client_Contact_Work_Tag        object\n",
       "Type_Organization              object\n",
       "Score_Source_1                float64\n",
       "Score_Source_2                float64\n",
       "Score_Source_3                 object\n",
       "Social_Circle_Default         float64\n",
       "Phone_Change                  float64\n",
       "Credit_Bureau                 float64\n",
       "Default                         int64\n",
       "dtype: object"
      ]
     },
     "execution_count": 122,
     "metadata": {},
     "output_type": "execute_result"
    }
   ],
   "source": [
    "drop_list = [#'ID_Days',\n",
    "             'ID',\n",
    "            #  'Registration_Days',\n",
    "            #  'Employed_Days',\n",
    "            #  'Mobile_Tag', \n",
    "            #  'Homephone_Tag', \n",
    "            #  'Workphone_Working', \n",
    "            #  'Application_Process_Day', \n",
    "            #  'Application_Process_Hour',\n",
    "            #  'Client_Permanent_Match_Tag',\n",
    "            #  'Client_Contact_Work_Tag',\n",
    "            #  'Client_Occupation',\n",
    "            #  'Type_Organization',\n",
    "            #  'Accompany_Client',\n",
    "            #  'Phone_Change',\n",
    "             'Own_House_Age'] #Since too many NA in Own_house_age\n",
    "data1 = data.drop(drop_list, axis=1)\n",
    "data1.dtypes"
   ]
  },
  {
   "cell_type": "code",
   "execution_count": 123,
   "metadata": {},
   "outputs": [],
   "source": [
    "def replace_value(value_now, default, values):\n",
    "    if str(value_now) == 'nan':\n",
    "        return values[default]\n",
    "    else:\n",
    "        return value_now"
   ]
  },
  {
   "cell_type": "code",
   "execution_count": 124,
   "metadata": {},
   "outputs": [],
   "source": [
    "# Nas in Client_Income\n",
    "\n",
    "data1.Client_Income = pd.to_numeric(data1.Client_Income, errors='coerce')\n",
    "inc1 = data1.groupby('Default').median()['Client_Income']\n",
    "data1.Client_Income = data1.apply(lambda x: replace_value(x['Client_Income'], \n",
    "                                                                      x['Default'], \n",
    "                                                                      inc1), \n",
    "                                              axis = 1)\n"
   ]
  },
  {
   "cell_type": "code",
   "execution_count": 125,
   "metadata": {},
   "outputs": [
    {
     "data": {
      "text/plain": [
       "(0.0, 100000.0)"
      ]
     },
     "execution_count": 125,
     "metadata": {},
     "output_type": "execute_result"
    },
    {
     "data": {
      "image/png": "[encoded data removed]",
      "text/plain": [
       "<Figure size 360x360 with 1 Axes>"
      ]
     },
     "metadata": {
      "needs_background": "light"
     },
     "output_type": "display_data"
    }
   ],
   "source": [
    "fig,ax = plt.subplots(1,1,figsize = (5,5))\n",
    "sns.boxplot(y = data1.Client_Income, x = data1.Default, ax = ax)\n",
    "ax.set_ylim((0,100000))"
   ]
  },
  {
   "cell_type": "code",
   "execution_count": 126,
   "metadata": {},
   "outputs": [],
   "source": [
    "# Nas in Social_Circle_Default\n",
    "data1.Social_Circle_Default = pd.to_numeric(data1.Social_Circle_Default, errors='coerce')\n",
    "scd = data1.groupby('Default').mean()['Social_Circle_Default']\n",
    "data1.Social_Circle_Default = data1.apply(lambda x: replace_value(x['Social_Circle_Default'],\n",
    "                                                                              x['Default'], scd), \n",
    "                                                      axis = 1)\n",
    "\n",
    "# Nas in Cleint_City_Rating\n",
    "data1.Cleint_City_Rating = pd.to_numeric(data1.Cleint_City_Rating, errors='coerce')\n",
    "ccr = data1.groupby('Default').mean()['Cleint_City_Rating']\n",
    "data1.Cleint_City_Rating = data1.apply(lambda x: replace_value(x['Cleint_City_Rating'],\n",
    "                                                                              x['Default'], ccr), \n",
    "                                                 axis = 1)"
   ]
  },
  {
   "cell_type": "code",
   "execution_count": 127,
   "metadata": {},
   "outputs": [],
   "source": [
    "# Nas in Employed_Days\n",
    "data1.Employed_Days = pd.to_numeric(data1.Employed_Days, errors='coerce')\n",
    "emd = data1.groupby('Default').median()['Employed_Days']\n",
    "data1.Employed_Days = data1.apply(lambda x: replace_value(x['Employed_Days'],\n",
    "                                                                              x['Default'], emd), \n",
    "                                                 axis = 1)\n",
    "\n",
    "# Nas in Registration_Days\n",
    "data1.Registration_Days = pd.to_numeric(data1.Registration_Days, errors='coerce')\n",
    "rgd = data1.groupby('Default').median()['Registration_Days']\n",
    "data1.Registration_Days = data1.apply(lambda x: replace_value(x['Registration_Days'],\n",
    "                                                                              x['Default'], rgd), \n",
    "                                                 axis = 1)  \n",
    "# Nas in Application_Process_Day\n",
    "data1.Application_Process_Day = pd.to_numeric(data1.Application_Process_Day, errors='coerce')\n",
    "apd = data1.groupby('Default').median()['Application_Process_Day']\n",
    "data1.Application_Process_Day = data1.apply(lambda x: replace_value(x['Application_Process_Day'],\n",
    "                                                                              x['Default'], apd), \n",
    "                                                 axis = 1)  \n",
    "\n",
    "# Nas in Application_Process_Hour\n",
    "data1.Application_Process_Hour = pd.to_numeric(data1.Application_Process_Hour, errors='coerce')\n",
    "aph = data1.groupby('Default').median()['Application_Process_Hour']\n",
    "data1.Application_Process_Hour = data1.apply(lambda x: replace_value(x['Application_Process_Hour'],\n",
    "                                                                              x['Default'], aph), \n",
    "                                                 axis = 1)       \n",
    "\n",
    "# Nas in ID_Days\n",
    "data1.ID_Days = pd.to_numeric(data1.ID_Days, errors='coerce')\n",
    "idd = data1.groupby('Default').median()['ID_Days']\n",
    "data1.ID_Days = data1.apply(lambda x: replace_value(x['ID_Days'],\n",
    "                                                                              x['Default'], idd), \n",
    "                                                 axis = 1)                                              "
   ]
  },
  {
   "cell_type": "code",
   "execution_count": 128,
   "metadata": {},
   "outputs": [
    {
     "name": "stdout",
     "output_type": "stream",
     "text": [
      "count    121856.000000\n",
      "mean      65200.896378\n",
      "std      137313.925054\n",
      "min           0.000000\n",
      "25%         962.000000\n",
      "50%        2296.000000\n",
      "75%        5385.000000\n",
      "max      365243.000000\n",
      "Name: Employed_Days, dtype: float64\n",
      "count    121856.000000\n",
      "mean       4960.919068\n",
      "std        3462.806612\n",
      "min           0.000000\n",
      "25%        2102.000000\n",
      "50%        4532.000000\n",
      "75%        7350.000000\n",
      "max       23738.000000\n",
      "Name: Registration_Days, dtype: float64\n"
     ]
    }
   ],
   "source": [
    "print(data1.Employed_Days.describe())\n",
    "print(data1.Registration_Days.describe())"
   ]
  },
  {
   "cell_type": "code",
   "execution_count": 129,
   "metadata": {},
   "outputs": [
    {
     "data": {
      "text/plain": [
       "<AxesSubplot:xlabel='Default', ylabel='Cleint_City_Rating'>"
      ]
     },
     "execution_count": 129,
     "metadata": {},
     "output_type": "execute_result"
    },
    {
     "data": {
      "image/png": "[encoded data removed]",
      "text/plain": [
       "<Figure size 720x360 with 2 Axes>"
      ]
     },
     "metadata": {
      "needs_background": "light"
     },
     "output_type": "display_data"
    }
   ],
   "source": [
    "fig,ax = plt.subplots(1,2,figsize = (10,5))\n",
    "sns.boxplot(y = data1.Social_Circle_Default, x = data1.Default, ax = ax[0])\n",
    "sns.boxplot(y = data1.Cleint_City_Rating, x = data1.Default, ax = ax[1])"
   ]
  },
  {
   "cell_type": "code",
   "execution_count": 130,
   "metadata": {},
   "outputs": [],
   "source": [
    "# Nas in Credit_Amount\n",
    "data1.Credit_Amount = pd.to_numeric(data1.Credit_Amount, errors='coerce')\n",
    "data1.dropna(subset=['Credit_Amount'], inplace=True)"
   ]
  },
  {
   "cell_type": "code",
   "execution_count": 131,
   "metadata": {},
   "outputs": [
    {
     "data": {
      "text/plain": [
       "<AxesSubplot:xlabel='Default', ylabel='Credit_Amount'>"
      ]
     },
     "execution_count": 131,
     "metadata": {},
     "output_type": "execute_result"
    },
    {
     "data": {
      "image/png": "[encoded data removed]",
      "text/plain": [
       "<Figure size 360x360 with 1 Axes>"
      ]
     },
     "metadata": {
      "needs_background": "light"
     },
     "output_type": "display_data"
    }
   ],
   "source": [
    "fig,ax = plt.subplots(1,1,figsize = (5,5))\n",
    "sns.boxplot(y = data1.Credit_Amount, x = data1.Default, ax = ax)"
   ]
  },
  {
   "cell_type": "code",
   "execution_count": 132,
   "metadata": {},
   "outputs": [],
   "source": [
    "# Nas in Car_Owned\n",
    "data1.Car_Owned = data1.Car_Owned.fillna(value =0)\n",
    "\n",
    "# Nas in Car_Owned\n",
    "data1.Bike_Owned = data1.Bike_Owned.fillna(value =0)\n",
    "\n",
    "# Nas in Active_Loan\n",
    "data1.Active_Loan = data1.Active_Loan.fillna(value =0)\n",
    "\n",
    "# Nas in House_Own\n",
    "data1.House_Own = data1.House_Own.fillna(value =0)\n",
    "\n",
    "# Nas in Child_Count\n",
    "data1.Child_Count = data1.Child_Count.fillna(value =0)\n",
    "\n",
    "# Nas in Client_Family_Members\n",
    "data1.Client_Family_Members = data1.Client_Family_Members.fillna(value =0)\n",
    "\n",
    "# Nas in Credit_Bureau\n",
    "data1.Credit_Bureau = data1.Credit_Bureau.fillna(value =0)\n"
   ]
  },
  {
   "cell_type": "code",
   "execution_count": 133,
   "metadata": {},
   "outputs": [
    {
     "data": {
      "text/plain": [
       "<seaborn.axisgrid.FacetGrid at 0x27e9eddfe50>"
      ]
     },
     "execution_count": 133,
     "metadata": {},
     "output_type": "execute_result"
    },
    {
     "data": {
      "image/png": "[encoded data removed]",
      "text/plain": [
       "<Figure size 404.75x360 with 1 Axes>"
      ]
     },
     "metadata": {
      "needs_background": "light"
     },
     "output_type": "display_data"
    },
    {
     "data": {
      "image/png": "[encoded data removed]",
      "text/plain": [
       "<Figure size 404.75x360 with 1 Axes>"
      ]
     },
     "metadata": {
      "needs_background": "light"
     },
     "output_type": "display_data"
    },
    {
     "data": {
      "image/png": "[encoded data removed]",
      "text/plain": [
       "<Figure size 404.75x360 with 1 Axes>"
      ]
     },
     "metadata": {
      "needs_background": "light"
     },
     "output_type": "display_data"
    },
    {
     "data": {
      "image/png": "[encoded data removed]",
      "text/plain": [
       "<Figure size 404.75x360 with 1 Axes>"
      ]
     },
     "metadata": {
      "needs_background": "light"
     },
     "output_type": "display_data"
    },
    {
     "data": {
      "image/png": "[encoded data removed]",
      "text/plain": [
       "<Figure size 404.75x360 with 1 Axes>"
      ]
     },
     "metadata": {
      "needs_background": "light"
     },
     "output_type": "display_data"
    },
    {
     "data": {
      "image/png": "[encoded data removed]",
      "text/plain": [
       "<Figure size 404.75x360 with 1 Axes>"
      ]
     },
     "metadata": {
      "needs_background": "light"
     },
     "output_type": "display_data"
    },
    {
     "data": {
      "image/png": "[encoded data removed]",
      "text/plain": [
       "<Figure size 404.75x360 with 1 Axes>"
      ]
     },
     "metadata": {
      "needs_background": "light"
     },
     "output_type": "display_data"
    }
   ],
   "source": [
    "sns.catplot(x = 'Car_Owned', kind = 'count', hue='Default', data =data1)\n",
    "sns.catplot(x = 'Bike_Owned', kind = 'count', hue='Default', data =data1)\n",
    "sns.catplot(x = 'Active_Loan', kind = 'count', hue='Default', data =data1)\n",
    "sns.catplot(x = 'House_Own', kind = 'count', hue='Default', data =data1)\n",
    "sns.catplot(x = 'Child_Count', kind = 'count', hue='Default', data =data1)\n",
    "sns.catplot(x = 'Client_Family_Members', kind = 'count', hue='Default', data =data1)\n",
    "sns.catplot(x = 'Credit_Bureau', kind = 'count', hue='Default', data =data1)"
   ]
  },
  {
   "cell_type": "code",
   "execution_count": 134,
   "metadata": {},
   "outputs": [],
   "source": [
    "# Nas in Loan_Contract_Type, Client_Housing_Type, Population_Region_Relative\n",
    "data1.Population_Region_Relative = pd.to_numeric(data1.Population_Region_Relative, errors='coerce')\n",
    "data1.dropna(subset=['Loan_Contract_Type', \n",
    "                     'Client_Housing_Type', \n",
    "                     'Population_Region_Relative'], inplace=True)"
   ]
  },
  {
   "cell_type": "code",
   "execution_count": 135,
   "metadata": {},
   "outputs": [],
   "source": [
    "# Transform the categorical variables to numerical\n",
    "from sklearn.preprocessing import LabelEncoder\n",
    "\n",
    "le1 = LabelEncoder()\n",
    "data1.Loan_Contract_Type = le1.fit_transform(data1.Loan_Contract_Type)\n",
    "\n",
    "le2 = LabelEncoder()\n",
    "data1.Client_Housing_Type = le2.fit_transform(data1.Client_Housing_Type)"
   ]
  },
  {
   "cell_type": "code",
   "execution_count": 136,
   "metadata": {},
   "outputs": [],
   "source": [
    "# Nas in Client_Education\n",
    "data1.Client_Education = data1.Client_Education.fillna('Unknown')\n",
    "le3 = LabelEncoder()\n",
    "data1.Client_Education = le3.fit_transform(data1.Client_Education)\n",
    "\n",
    "# Nas in Client_Gender\n",
    "data1.Client_Gender = data1.Client_Gender.fillna('Unknown')\n",
    "le4 = LabelEncoder()\n",
    "data1.Client_Gender = le4.fit_transform(data1.Client_Gender)\n",
    "\n",
    "# Nas in Client_Marital_Status\n",
    "data1.Client_Marital_Status = data1.Client_Marital_Status.fillna('Unknown')\n",
    "le5 = LabelEncoder()\n",
    "data1.Client_Marital_Status = le5.fit_transform(data1.Client_Marital_Status)\n",
    "\n",
    "# Nas in Client_Income_Type\n",
    "data1.Client_Income_Type = data1.Client_Income_Type.fillna('Unknown')\n",
    "le6 = LabelEncoder()\n",
    "data1.Client_Income_Type = le6.fit_transform(data1.Client_Income_Type)\n",
    "\n",
    "# # Nas in Type_Organization\n",
    "# data1.Type_Organization = data1.Type_Organization.fillna('Unknown')\n",
    "# le7 = LabelEncoder()\n",
    "# data1.Type_Organization = le7.fit_transform(data1.Type_Organization)\n",
    "\n",
    "# Nas in Client_Occupation\n",
    "data1.Client_Occupation = data1.Client_Occupation.fillna('Unknown')\n",
    "le8 = LabelEncoder()\n",
    "data1.Client_Occupation = le8.fit_transform(data1.Client_Occupation)"
   ]
  },
  {
   "cell_type": "code",
   "execution_count": 137,
   "metadata": {},
   "outputs": [],
   "source": [
    "data1.loc[data1.Type_Organization=='XNA','Type_Organization'] ='Unknown'\n",
    "data1.Type_Organization = data1.Type_Organization.fillna('Unknown')\n"
   ]
  },
  {
   "cell_type": "code",
   "execution_count": 138,
   "metadata": {},
   "outputs": [],
   "source": [
    "def sector(x):\n",
    "    sec = x.lower().split('type')[0]\n",
    "    return sec\n",
    "\n",
    "def type_org(x):\n",
    "    try:\n",
    "        typ = x.lower().split('type')[1]\n",
    "        return int(typ)\n",
    "    except:\n",
    "        return 0\n",
    "\n",
    "data1['Client_sector'] = data1.apply(lambda x: sector(x['Type_Organization']), axis=1)\n",
    "data1['Client_type'] = data1.apply(lambda x: type_org(x['Type_Organization']), axis=1)\n",
    "data1.drop(['Type_Organization'], inplace=True, axis=1)\n",
    "le7 = LabelEncoder()\n",
    "data1.Client_sector = le7.fit_transform(data1.Client_sector)"
   ]
  },
  {
   "cell_type": "code",
   "execution_count": 139,
   "metadata": {},
   "outputs": [
    {
     "data": {
      "image/png": "[encoded data removed]",
      "text/plain": [
       "<Figure size 504x360 with 1 Axes>"
      ]
     },
     "metadata": {
      "needs_background": "light"
     },
     "output_type": "display_data"
    }
   ],
   "source": [
    "fig, ax = plt.subplots(1,1,figsize=(7,5)) \n",
    "sns.histplot(x = 'Client_type', stat = 'density', data =data1, ax=ax, binwidth=1)\n",
    "ax.tick_params(axis='x', labelrotation = 45)"
   ]
  },
  {
   "cell_type": "code",
   "execution_count": 140,
   "metadata": {},
   "outputs": [
    {
     "data": {
      "text/plain": [
       "(array([ 0,  1,  2,  3,  4,  5,  6,  7,  8,  9, 10, 11, 12, 13, 14, 15, 16,\n",
       "        17, 18, 19, 20, 21, 22, 23, 24, 25, 26, 27, 28, 29, 30, 31, 32, 33,\n",
       "        34]),\n",
       " [Text(0, 0, '0'),\n",
       "  Text(1, 0, '1'),\n",
       "  Text(2, 0, '2'),\n",
       "  Text(3, 0, '3'),\n",
       "  Text(4, 0, '4'),\n",
       "  Text(5, 0, '5'),\n",
       "  Text(6, 0, '6'),\n",
       "  Text(7, 0, '7'),\n",
       "  Text(8, 0, '8'),\n",
       "  Text(9, 0, '9'),\n",
       "  Text(10, 0, '10'),\n",
       "  Text(11, 0, '11'),\n",
       "  Text(12, 0, '12'),\n",
       "  Text(13, 0, '13'),\n",
       "  Text(14, 0, '14'),\n",
       "  Text(15, 0, '15'),\n",
       "  Text(16, 0, '16'),\n",
       "  Text(17, 0, '17'),\n",
       "  Text(18, 0, '18'),\n",
       "  Text(19, 0, '19'),\n",
       "  Text(20, 0, '20'),\n",
       "  Text(21, 0, '21'),\n",
       "  Text(22, 0, '22'),\n",
       "  Text(23, 0, '23'),\n",
       "  Text(24, 0, '24'),\n",
       "  Text(25, 0, '25'),\n",
       "  Text(26, 0, '26'),\n",
       "  Text(27, 0, '27'),\n",
       "  Text(28, 0, '28'),\n",
       "  Text(29, 0, '29'),\n",
       "  Text(30, 0, '30'),\n",
       "  Text(31, 0, '31'),\n",
       "  Text(32, 0, '32'),\n",
       "  Text(33, 0, '33'),\n",
       "  Text(34, 0, '34')])"
      ]
     },
     "execution_count": 140,
     "metadata": {},
     "output_type": "execute_result"
    },
    {
     "data": {
      "image/png": "[encoded data removed]",
      "text/plain": [
       "<Figure size 360x360 with 1 Axes>"
      ]
     },
     "metadata": {
      "needs_background": "light"
     },
     "output_type": "display_data"
    },
    {
     "data": {
      "image/png": "[encoded data removed]",
      "text/plain": [
       "<Figure size 360x360 with 1 Axes>"
      ]
     },
     "metadata": {
      "needs_background": "light"
     },
     "output_type": "display_data"
    }
   ],
   "source": [
    "sns.catplot(x = 'Client_type', kind = 'count', data =data1)\n",
    "sns.catplot(x = 'Client_sector', kind = 'count', data =data1)\n",
    "plt.xticks(rotation=45)"
   ]
  },
  {
   "cell_type": "code",
   "execution_count": 141,
   "metadata": {},
   "outputs": [
    {
     "data": {
      "text/plain": [
       "<seaborn.axisgrid.FacetGrid at 0x27eea7408e0>"
      ]
     },
     "execution_count": 141,
     "metadata": {},
     "output_type": "execute_result"
    },
    {
     "data": {
      "image/png": "[encoded data removed]",
      "text/plain": [
       "<Figure size 404.75x360 with 1 Axes>"
      ]
     },
     "metadata": {
      "needs_background": "light"
     },
     "output_type": "display_data"
    },
    {
     "data": {
      "image/png": "[encoded data removed]",
      "text/plain": [
       "<Figure size 404.75x360 with 1 Axes>"
      ]
     },
     "metadata": {
      "needs_background": "light"
     },
     "output_type": "display_data"
    },
    {
     "data": {
      "image/png": "[encoded data removed]",
      "text/plain": [
       "<Figure size 404.75x360 with 1 Axes>"
      ]
     },
     "metadata": {
      "needs_background": "light"
     },
     "output_type": "display_data"
    },
    {
     "data": {
      "image/png": "[encoded data removed]",
      "text/plain": [
       "<Figure size 404.75x360 with 1 Axes>"
      ]
     },
     "metadata": {
      "needs_background": "light"
     },
     "output_type": "display_data"
    },
    {
     "data": {
      "image/png": "[encoded data removed]",
      "text/plain": [
       "<Figure size 404.75x360 with 1 Axes>"
      ]
     },
     "metadata": {
      "needs_background": "light"
     },
     "output_type": "display_data"
    }
   ],
   "source": [
    "sns.catplot(x = 'Loan_Contract_Type', kind = 'count', hue='Default', data =data1)\n",
    "sns.catplot(x = 'Client_Housing_Type', kind = 'count', hue='Default', data =data1)\n",
    "sns.catplot(x = 'Client_Education', kind = 'count', hue='Default', data =data1)\n",
    "sns.catplot(x = 'Client_Gender', kind = 'count', hue='Default', data =data1)\n",
    "sns.catplot(x = 'Client_Marital_Status', kind = 'count', hue='Default', data =data1)\n"
   ]
  },
  {
   "cell_type": "code",
   "execution_count": 142,
   "metadata": {},
   "outputs": [],
   "source": [
    "# Nas in Loan_Annuity, Age_Days \n",
    "data1.Age_Days = pd.to_numeric(data1.Age_Days, errors='coerce')\n",
    "data1.Loan_Annuity = pd.to_numeric(data1.Loan_Annuity, errors='coerce')\n",
    "data1.dropna(subset=['Loan_Annuity', 'Age_Days'], inplace=True)"
   ]
  },
  {
   "cell_type": "code",
   "execution_count": 143,
   "metadata": {},
   "outputs": [
    {
     "data": {
      "text/plain": [
       "<AxesSubplot:xlabel='Default', ylabel='Loan_Annuity'>"
      ]
     },
     "execution_count": 143,
     "metadata": {},
     "output_type": "execute_result"
    },
    {
     "data": {
      "image/png": "[encoded data removed]",
      "text/plain": [
       "<Figure size 720x360 with 2 Axes>"
      ]
     },
     "metadata": {
      "needs_background": "light"
     },
     "output_type": "display_data"
    }
   ],
   "source": [
    "fig,ax = plt.subplots(1,2,figsize = (10,5))\n",
    "sns.boxplot(y = data1.Age_Days, x = data1.Default, ax = ax[0])\n",
    "sns.boxplot(y = data1.Loan_Annuity, x = data1.Default, ax = ax[1])"
   ]
  },
  {
   "cell_type": "code",
   "execution_count": 144,
   "metadata": {},
   "outputs": [
    {
     "data": {
      "text/plain": [
       "<AxesSubplot:xlabel='Default', ylabel='Age_Days'>"
      ]
     },
     "execution_count": 144,
     "metadata": {},
     "output_type": "execute_result"
    },
    {
     "data": {
      "image/png": "[encoded data removed]",
      "text/plain": [
       "<Figure size 360x360 with 1 Axes>"
      ]
     },
     "metadata": {
      "needs_background": "light"
     },
     "output_type": "display_data"
    }
   ],
   "source": [
    "fig,ax = plt.subplots(1,1,figsize = (5,5))\n",
    "sns.boxplot(y = data1.Age_Days, x = data1.Default, ax = ax )"
   ]
  },
  {
   "cell_type": "code",
   "execution_count": 145,
   "metadata": {},
   "outputs": [],
   "source": [
    "# Nas in Score_Source_1\n",
    "data1.Score_Source_1 = pd.to_numeric(data1.Score_Source_1, errors='coerce')\n",
    "ss1 = data1.groupby('Default').mean()['Score_Source_1']\n",
    "data1.Score_Source_1 = data1.apply(lambda x: replace_value(x['Score_Source_1'],\n",
    "                                                                       x['Default'], ss1), \n",
    "                                               axis = 1)\n",
    "\n",
    "# Nas in Score_Source_2\n",
    "data1.Score_Source_2 = pd.to_numeric(data1.Score_Source_2, errors='coerce')\n",
    "data1.loc[data1[data1.Score_Source_2 > 1].index,'Score_Source_2'] = 1\n",
    "ss2 = data1.groupby('Default').mean()['Score_Source_2']\n",
    "data1.Score_Source_2 = data1.apply(lambda x: replace_value(x['Score_Source_2'],\n",
    "                                                                       x['Default'], ss2), \n",
    "                                               axis = 1)\n",
    "\n",
    "# Nas in Score_Source_3\n",
    "data1.Score_Source_3 = pd.to_numeric(data1.Score_Source_3, errors='coerce')\n",
    "ss3 = data1.groupby('Default').mean()['Score_Source_3']\n",
    "data1.Score_Source_3 = data1.apply(lambda x: replace_value(x['Score_Source_3'],\n",
    "                                                                       x['Default'], ss3), \n",
    "                                               axis = 1)"
   ]
  },
  {
   "cell_type": "code",
   "execution_count": 146,
   "metadata": {},
   "outputs": [
    {
     "data": {
      "text/plain": [
       "<AxesSubplot:xlabel='Default', ylabel='Score_Source_3'>"
      ]
     },
     "execution_count": 146,
     "metadata": {},
     "output_type": "execute_result"
    },
    {
     "data": {
      "image/png": "[encoded data removed]",
      "text/plain": [
       "<Figure size 1080x360 with 3 Axes>"
      ]
     },
     "metadata": {
      "needs_background": "light"
     },
     "output_type": "display_data"
    }
   ],
   "source": [
    "fig,ax = plt.subplots(1,3,figsize = (15,5))\n",
    "sns.boxplot(y = data1.Score_Source_1, x = data1.Default, ax = ax[0])\n",
    "sns.boxplot(y = data1.Score_Source_2, x = data1.Default, ax = ax[1])\n",
    "sns.boxplot(y = data1.Score_Source_3, x = data1.Default, ax = ax[2])"
   ]
  },
  {
   "cell_type": "code",
   "execution_count": 147,
   "metadata": {},
   "outputs": [],
   "source": [
    "# Nas in Accompany_Client\n",
    "data1.Accompany_Client = data1.Accompany_Client.fillna('Alone')\n",
    "le9 = LabelEncoder()\n",
    "data1.Accompany_Client = le9.fit_transform(data1.Accompany_Client)\n",
    "\n",
    "# Nas in Client_Permanent_Match_Tag\n",
    "le10 = LabelEncoder()\n",
    "data1.Client_Permanent_Match_Tag = le10.fit_transform(data1.Client_Permanent_Match_Tag)\n",
    "\n",
    "# Nas in Client_Permanent_Match_Tag\n",
    "le11 = LabelEncoder()\n",
    "data1.Client_Contact_Work_Tag = le11.fit_transform(data1.Client_Contact_Work_Tag)"
   ]
  },
  {
   "cell_type": "code",
   "execution_count": 148,
   "metadata": {},
   "outputs": [],
   "source": [
    "# Nas in Phone_Change\n",
    "data1.Phone_Change = data1.Phone_Change.fillna(value =0)\n",
    "le12 = LabelEncoder()\n",
    "data1.Phone_Change = le12.fit_transform(data1.Phone_Change)\n",
    "# Nas in Mobile_Tag\n",
    "data1.Mobile_Tag = data1.Mobile_Tag.fillna(value =0)\n",
    "le13 = LabelEncoder()\n",
    "data1.Mobile_Tag = le13.fit_transform(data1.Mobile_Tag)\n",
    "\n",
    "# Nas in Homephone_Tag\n",
    "data1.Homephone_Tag = data1.Homephone_Tag.fillna(value =0)\n",
    "le14 = LabelEncoder()\n",
    "data1.Homephone_Tag = le14.fit_transform(data1.Homephone_Tag)\n",
    "\n",
    "# Nas in Workphone_Working\n",
    "data1.Workphone_Working = data1.Workphone_Working.fillna(value =0)\n",
    "le15 = LabelEncoder()\n",
    "data1.Homephone_Tag = le15.fit_transform(data1.Homephone_Tag)"
   ]
  },
  {
   "cell_type": "code",
   "execution_count": 149,
   "metadata": {},
   "outputs": [
    {
     "name": "stdout",
     "output_type": "stream",
     "text": [
      "Client_Income                 0\n",
      "Car_Owned                     0\n",
      "Bike_Owned                    0\n",
      "Active_Loan                   0\n",
      "House_Own                     0\n",
      "Child_Count                   0\n",
      "Credit_Amount                 0\n",
      "Loan_Annuity                  0\n",
      "Accompany_Client              0\n",
      "Client_Income_Type            0\n",
      "Client_Education              0\n",
      "Client_Marital_Status         0\n",
      "Client_Gender                 0\n",
      "Loan_Contract_Type            0\n",
      "Client_Housing_Type           0\n",
      "Population_Region_Relative    0\n",
      "Age_Days                      0\n",
      "Employed_Days                 0\n",
      "Registration_Days             0\n",
      "ID_Days                       0\n",
      "Mobile_Tag                    0\n",
      "Homephone_Tag                 0\n",
      "Workphone_Working             0\n",
      "Client_Occupation             0\n",
      "Client_Family_Members         0\n",
      "Cleint_City_Rating            0\n",
      "Application_Process_Day       0\n",
      "Application_Process_Hour      0\n",
      "Client_Permanent_Match_Tag    0\n",
      "Client_Contact_Work_Tag       0\n",
      "Score_Source_1                0\n",
      "Score_Source_2                0\n",
      "Score_Source_3                0\n",
      "Social_Circle_Default         0\n",
      "Phone_Change                  0\n",
      "Credit_Bureau                 0\n",
      "Default                       0\n",
      "Client_sector                 0\n",
      "Client_type                   0\n",
      "dtype: int64\n",
      "(99531, 39)\n"
     ]
    }
   ],
   "source": [
    "# Check NAs in our final dataset\n",
    "print(data1.isna().sum())\n",
    "print(data1.shape)"
   ]
  },
  {
   "cell_type": "code",
   "execution_count": 150,
   "metadata": {},
   "outputs": [
    {
     "name": "stdout",
     "output_type": "stream",
     "text": [
      "<class 'pandas.core.frame.DataFrame'>\n",
      "Int64Index: 99531 entries, 0 to 121855\n",
      "Data columns (total 39 columns):\n",
      " #   Column                      Non-Null Count  Dtype  \n",
      "---  ------                      --------------  -----  \n",
      " 0   Client_Income               99531 non-null  float64\n",
      " 1   Car_Owned                   99531 non-null  float64\n",
      " 2   Bike_Owned                  99531 non-null  float64\n",
      " 3   Active_Loan                 99531 non-null  float64\n",
      " 4   House_Own                   99531 non-null  float64\n",
      " 5   Child_Count                 99531 non-null  float64\n",
      " 6   Credit_Amount               99531 non-null  float64\n",
      " 7   Loan_Annuity                99531 non-null  float64\n",
      " 8   Accompany_Client            99531 non-null  int32  \n",
      " 9   Client_Income_Type          99531 non-null  int32  \n",
      " 10  Client_Education            99531 non-null  int32  \n",
      " 11  Client_Marital_Status       99531 non-null  int32  \n",
      " 12  Client_Gender               99531 non-null  int32  \n",
      " 13  Loan_Contract_Type          99531 non-null  int32  \n",
      " 14  Client_Housing_Type         99531 non-null  int32  \n",
      " 15  Population_Region_Relative  99531 non-null  float64\n",
      " 16  Age_Days                    99531 non-null  float64\n",
      " 17  Employed_Days               99531 non-null  float64\n",
      " 18  Registration_Days           99531 non-null  float64\n",
      " 19  ID_Days                     99531 non-null  float64\n",
      " 20  Mobile_Tag                  99531 non-null  int64  \n",
      " 21  Homephone_Tag               99531 non-null  int64  \n",
      " 22  Workphone_Working           99531 non-null  int64  \n",
      " 23  Client_Occupation           99531 non-null  int32  \n",
      " 24  Client_Family_Members       99531 non-null  float64\n",
      " 25  Cleint_City_Rating          99531 non-null  float64\n",
      " 26  Application_Process_Day     99531 non-null  float64\n",
      " 27  Application_Process_Hour    99531 non-null  float64\n",
      " 28  Client_Permanent_Match_Tag  99531 non-null  int32  \n",
      " 29  Client_Contact_Work_Tag     99531 non-null  int32  \n",
      " 30  Score_Source_1              99531 non-null  float64\n",
      " 31  Score_Source_2              99531 non-null  float64\n",
      " 32  Score_Source_3              99531 non-null  float64\n",
      " 33  Social_Circle_Default       99531 non-null  float64\n",
      " 34  Phone_Change                99531 non-null  int64  \n",
      " 35  Credit_Bureau               99531 non-null  float64\n",
      " 36  Default                     99531 non-null  int64  \n",
      " 37  Client_sector               99531 non-null  int32  \n",
      " 38  Client_type                 99531 non-null  int64  \n",
      "dtypes: float64(22), int32(11), int64(6)\n",
      "memory usage: 28.2 MB\n",
      "None\n"
     ]
    }
   ],
   "source": [
    "print(data1.info())"
   ]
  },
  {
   "cell_type": "code",
   "execution_count": 151,
   "metadata": {},
   "outputs": [],
   "source": [
    "# data1['Age_Years'] = np.round(data1.apply(lambda x: int(x['Age_Days']/365), axis=1))\n",
    "\n",
    "# # Youger than 21 and older than 45:0\n",
    "# # Between 21 and 45: 1\n",
    "\n",
    "# # data1['Age_score'] = data1.apply(lambda x: 0 if x['Age_Years']<=21 else 1 if x['Age_Years']<=45 else 0, \n",
    "# #                                              axis=1)"
   ]
  },
  {
   "cell_type": "code",
   "execution_count": 152,
   "metadata": {},
   "outputs": [
    {
     "name": "stdout",
     "output_type": "stream",
     "text": [
      "<class 'pandas.core.frame.DataFrame'>\n",
      "Int64Index: 99531 entries, 0 to 121855\n",
      "Data columns (total 39 columns):\n",
      " #   Column                      Non-Null Count  Dtype  \n",
      "---  ------                      --------------  -----  \n",
      " 0   Client_Income               99531 non-null  float64\n",
      " 1   Car_Owned                   99531 non-null  float64\n",
      " 2   Bike_Owned                  99531 non-null  float64\n",
      " 3   Active_Loan                 99531 non-null  float64\n",
      " 4   House_Own                   99531 non-null  float64\n",
      " 5   Child_Count                 99531 non-null  float64\n",
      " 6   Credit_Amount               99531 non-null  float64\n",
      " 7   Loan_Annuity                99531 non-null  float64\n",
      " 8   Accompany_Client            99531 non-null  int32  \n",
      " 9   Client_Income_Type          99531 non-null  int32  \n",
      " 10  Client_Education            99531 non-null  int32  \n",
      " 11  Client_Marital_Status       99531 non-null  int32  \n",
      " 12  Client_Gender               99531 non-null  int32  \n",
      " 13  Loan_Contract_Type          99531 non-null  int32  \n",
      " 14  Client_Housing_Type         99531 non-null  int32  \n",
      " 15  Population_Region_Relative  99531 non-null  float64\n",
      " 16  Age_Days                    99531 non-null  float64\n",
      " 17  Employed_Days               99531 non-null  float64\n",
      " 18  Registration_Days           99531 non-null  float64\n",
      " 19  ID_Days                     99531 non-null  float64\n",
      " 20  Mobile_Tag                  99531 non-null  int64  \n",
      " 21  Homephone_Tag               99531 non-null  int64  \n",
      " 22  Workphone_Working           99531 non-null  int64  \n",
      " 23  Client_Occupation           99531 non-null  int32  \n",
      " 24  Client_Family_Members       99531 non-null  float64\n",
      " 25  Cleint_City_Rating          99531 non-null  float64\n",
      " 26  Application_Process_Day     99531 non-null  float64\n",
      " 27  Application_Process_Hour    99531 non-null  float64\n",
      " 28  Client_Permanent_Match_Tag  99531 non-null  int32  \n",
      " 29  Client_Contact_Work_Tag     99531 non-null  int32  \n",
      " 30  Score_Source_1              99531 non-null  float64\n",
      " 31  Score_Source_2              99531 non-null  float64\n",
      " 32  Score_Source_3              99531 non-null  float64\n",
      " 33  Social_Circle_Default       99531 non-null  float64\n",
      " 34  Phone_Change                99531 non-null  int64  \n",
      " 35  Credit_Bureau               99531 non-null  float64\n",
      " 36  Default                     99531 non-null  int64  \n",
      " 37  Client_sector               99531 non-null  int32  \n",
      " 38  Client_type                 99531 non-null  int64  \n",
      "dtypes: float64(22), int32(11), int64(6)\n",
      "memory usage: 28.2 MB\n"
     ]
    }
   ],
   "source": [
    "clean_data = data1.copy()\n",
    "clean_data.info()"
   ]
  },
  {
   "cell_type": "code",
   "execution_count": 153,
   "metadata": {},
   "outputs": [],
   "source": [
    "# clean_data = data1.copy()\n",
    "# drop_list2 = ['Car_Owned', 'House_Own', 'Child_Count','Client_Income_Type',\n",
    "#               'Income_score','Education_score', 'Marital_score', \n",
    "#               'Score_Source_1', 'Score_Source_2', 'Score_Source_3',\n",
    "#               'Client_Education','Client_Marital_Status','Age_Days',\n",
    "#               'Child_score', 'Age_Years','Age_score','House_Own_score']\n",
    "# clean_data.drop(drop_list2, axis=1,inplace=True)\n",
    "# clean_data.info()"
   ]
  },
  {
   "cell_type": "code",
   "execution_count": 154,
   "metadata": {},
   "outputs": [
    {
     "data": {
      "text/plain": [
       "0         0\n",
       "1         0\n",
       "2         0\n",
       "3         0\n",
       "4         0\n",
       "         ..\n",
       "121851    1\n",
       "121852    0\n",
       "121853    0\n",
       "121854    0\n",
       "121855    0\n",
       "Name: Default, Length: 99531, dtype: int64"
      ]
     },
     "execution_count": 154,
     "metadata": {},
     "output_type": "execute_result"
    }
   ],
   "source": [
    "clean_data.Default"
   ]
  },
  {
   "cell_type": "code",
   "execution_count": 159,
   "metadata": {},
   "outputs": [
    {
     "data": {
      "text/plain": [
       "array([91545, 91545], dtype=int64)"
      ]
     },
     "execution_count": 159,
     "metadata": {},
     "output_type": "execute_result"
    }
   ],
   "source": [
    "np.unique(y_over, return_counts=True)[1]"
   ]
  },
  {
   "cell_type": "code",
   "execution_count": 160,
   "metadata": {},
   "outputs": [
    {
     "data": {
      "image/png": "[encoded data removed]",
      "text/plain": [
       "<Figure size 432x288 with 1 Axes>"
      ]
     },
     "metadata": {},
     "output_type": "display_data"
    }
   ],
   "source": [
    "a = np.unique(y_over, return_counts=True)[1]\n",
    "plt.pie(a, labels=['Not Default', \"Default\"], shadow=True, autopct='%1.1f%%')\n",
    "plt.show()"
   ]
  },
  {
   "cell_type": "code",
   "execution_count": 155,
   "metadata": {},
   "outputs": [
    {
     "name": "stdout",
     "output_type": "stream",
     "text": [
      "train_X shape: (146472, 38)\n",
      "test_X shape: (36618, 38)\n",
      "train_y shape: (146472,)\n",
      "test_y shape: (36618,)\n"
     ]
    }
   ],
   "source": [
    "from sklearn.model_selection import train_test_split\n",
    "from sklearn.preprocessing import StandardScaler\n",
    "from imblearn.over_sampling import RandomOverSampler\n",
    "y = clean_data['Default'].values\n",
    "x = clean_data.drop(['Default'], axis=1)  # Age_years 好像也没有提升\n",
    "x = StandardScaler().fit_transform(X=x)\n",
    "X_over, y_over = RandomOverSampler(sampling_strategy='minority').fit_resample(x,y)\n",
    "# train_X, test_X, train_y, test_y = train_test_split(x, y, test_size=0.2, stratify=y, random_state=123)\n",
    "train_X, test_X, train_y, test_y = train_test_split(X_over, y_over, test_size=0.2, stratify=y_over, random_state=123)\n",
    "print(f'train_X shape: {train_X.shape}')\n",
    "print(f'test_X shape: {test_X.shape}')\n",
    "print(f'train_y shape: {train_y.shape}')\n",
    "print(f'test_y shape: {test_y.shape}')"
   ]
  },
  {
   "cell_type": "code",
   "execution_count": 44,
   "metadata": {},
   "outputs": [
    {
     "data": {
      "text/plain": [
       "(array([0, 1], dtype=int64), array([73236, 73236], dtype=int64))"
      ]
     },
     "execution_count": 44,
     "metadata": {},
     "output_type": "execute_result"
    }
   ],
   "source": [
    "np.unique(train_y,return_counts=True)"
   ]
  },
  {
   "cell_type": "code",
   "execution_count": 45,
   "metadata": {},
   "outputs": [
    {
     "data": {
      "text/plain": [
       "(array([0, 1], dtype=int64), array([18309, 18309], dtype=int64))"
      ]
     },
     "execution_count": 45,
     "metadata": {},
     "output_type": "execute_result"
    }
   ],
   "source": [
    "np.unique(test_y, return_counts=True) # have the same proportion of 1s as train_y"
   ]
  },
  {
   "cell_type": "code",
   "execution_count": 46,
   "metadata": {},
   "outputs": [],
   "source": [
    "from sklearn.preprocessing import OneHotEncoder\n",
    "ohe = OneHotEncoder()\n",
    "ohe.fit(train_y.reshape(-1,1))\n",
    "train_y_ohe = ohe.transform(train_y.reshape(-1,1)).toarray()\n",
    "test_y_ohe = ohe.transform(test_y.reshape(-1,1)).toarray()"
   ]
  },
  {
   "cell_type": "code",
   "execution_count": 48,
   "metadata": {},
   "outputs": [
    {
     "name": "stdout",
     "output_type": "stream",
     "text": [
      "Epoch 1/20\n",
      "489/489 [==============================] - 5s 8ms/step - loss: 0.4023 - auc: 0.8991 - val_loss: 0.2927 - val_auc: 0.9459\n",
      "Epoch 2/20\n",
      "489/489 [==============================] - 3s 7ms/step - loss: 0.2781 - auc: 0.9506 - val_loss: 0.2569 - val_auc: 0.9588\n",
      "Epoch 3/20\n",
      "489/489 [==============================] - 3s 7ms/step - loss: 0.2412 - auc: 0.9620 - val_loss: 0.2279 - val_auc: 0.9657\n",
      "Epoch 4/20\n",
      "489/489 [==============================] - 3s 6ms/step - loss: 0.2123 - auc: 0.9698 - val_loss: 0.1944 - val_auc: 0.9747\n",
      "Epoch 5/20\n",
      "489/489 [==============================] - 3s 7ms/step - loss: 0.1868 - auc: 0.9757 - val_loss: 0.1704 - val_auc: 0.9790\n",
      "Epoch 6/20\n",
      "489/489 [==============================] - 3s 7ms/step - loss: 0.1673 - auc: 0.9795 - val_loss: 0.1585 - val_auc: 0.9802\n",
      "Epoch 7/20\n",
      "489/489 [==============================] - 3s 7ms/step - loss: 0.1495 - auc: 0.9829 - val_loss: 0.1447 - val_auc: 0.9829\n",
      "Epoch 8/20\n",
      "489/489 [==============================] - 3s 7ms/step - loss: 0.1354 - auc: 0.9851 - val_loss: 0.1301 - val_auc: 0.9848\n",
      "Epoch 9/20\n",
      "489/489 [==============================] - 3s 7ms/step - loss: 0.1242 - auc: 0.9868 - val_loss: 0.1273 - val_auc: 0.9853\n",
      "Epoch 10/20\n",
      "489/489 [==============================] - 3s 7ms/step - loss: 0.1155 - auc: 0.9880 - val_loss: 0.1220 - val_auc: 0.9848\n",
      "Epoch 11/20\n",
      "489/489 [==============================] - 3s 7ms/step - loss: 0.1035 - auc: 0.9899 - val_loss: 0.1117 - val_auc: 0.9866\n",
      "Epoch 12/20\n",
      "489/489 [==============================] - 3s 7ms/step - loss: 0.0985 - auc: 0.9901 - val_loss: 0.1001 - val_auc: 0.9890\n",
      "Epoch 13/20\n",
      "489/489 [==============================] - 3s 7ms/step - loss: 0.0928 - auc: 0.9909 - val_loss: 0.1050 - val_auc: 0.9865\n",
      "Epoch 14/20\n",
      "489/489 [==============================] - 3s 7ms/step - loss: 0.0873 - auc: 0.9916 - val_loss: 0.1048 - val_auc: 0.9867\n",
      "Epoch 15/20\n",
      "489/489 [==============================] - 3s 7ms/step - loss: 0.0823 - auc: 0.9921 - val_loss: 0.1109 - val_auc: 0.9854\n",
      "Epoch 16/20\n",
      "489/489 [==============================] - 3s 7ms/step - loss: 0.0778 - auc: 0.9927 - val_loss: 0.0990 - val_auc: 0.9878\n",
      "Epoch 17/20\n",
      "489/489 [==============================] - 4s 7ms/step - loss: 0.0740 - auc: 0.9931 - val_loss: 0.0935 - val_auc: 0.9878\n",
      "Epoch 18/20\n",
      "489/489 [==============================] - 3s 7ms/step - loss: 0.0705 - auc: 0.9934 - val_loss: 0.0853 - val_auc: 0.9902\n",
      "Epoch 19/20\n",
      "489/489 [==============================] - 3s 7ms/step - loss: 0.0677 - auc: 0.9935 - val_loss: 0.0843 - val_auc: 0.9901\n",
      "Epoch 20/20\n",
      "489/489 [==============================] - 3s 7ms/step - loss: 0.0660 - auc: 0.9938 - val_loss: 0.0895 - val_auc: 0.9893\n",
      "1145/1145 [==============================] - 3s 2ms/step - loss: 0.0895 - auc: 0.9893\n",
      "My test error is 1.07%\n"
     ]
    }
   ],
   "source": [
    "from keras.models import Sequential\n",
    "from keras.layers import Dense, Dropout\n",
    "\n",
    "mymodel = Sequential()\n",
    "mymodel.add(Dense(256, activation='relu', input_shape = (38,)))\n",
    "mymodel.add(Dense(256, activation='relu'))\n",
    "mymodel.add(Dropout(0.3))\n",
    "mymodel.add(Dense(128, activation='relu'))\n",
    "mymodel.add(Dropout(0.2))\n",
    "mymodel.add(Dense(2, activation='softmax'))\n",
    "mymodel.compile(optimizer='adam', loss='binary_crossentropy', metrics=['AUC'])\n",
    "mymodel.fit(train_X, train_y_ohe, validation_data=(test_X, test_y_ohe), epochs=20, shuffle=True,batch_size=300)\n",
    "\n",
    "loss,score_cnn = mymodel.evaluate(test_X, test_y_ohe)\n",
    "error_cnn = 1 - score_cnn\n",
    "print(f'My test error is {error_cnn*100:0.2f}%')"
   ]
  },
  {
   "cell_type": "code",
   "execution_count": 49,
   "metadata": {},
   "outputs": [
    {
     "data": {
      "text/plain": [
       "(<Figure size 432x288 with 1 Axes>,\n",
       " <AxesSubplot:xlabel='predicted label', ylabel='true label'>)"
      ]
     },
     "execution_count": 49,
     "metadata": {},
     "output_type": "execute_result"
    },
    {
     "data": {
      "image/png": "[encoded data removed]",
      "text/plain": [
       "<Figure size 432x288 with 1 Axes>"
      ]
     },
     "metadata": {
      "needs_background": "light"
     },
     "output_type": "display_data"
    }
   ],
   "source": [
    "a = np.round(mymodel.predict(test_X))\n",
    "b = ohe.inverse_transform(a)\n",
    "from sklearn.metrics import confusion_matrix\n",
    "from mlxtend.plotting import plot_confusion_matrix\n",
    "cm = confusion_matrix(test_y, b)\n",
    "plot_confusion_matrix(cm)"
   ]
  },
  {
   "cell_type": "code",
   "execution_count": 50,
   "metadata": {},
   "outputs": [
    {
     "data": {
      "text/plain": [
       "0.9397290949806106"
      ]
     },
     "execution_count": 50,
     "metadata": {},
     "output_type": "execute_result"
    }
   ],
   "source": [
    "from sklearn.tree import DecisionTreeClassifier\n",
    "from sklearn.metrics import confusion_matrix\n",
    "from mlxtend.plotting import plot_confusion_matrix\n",
    "\n",
    "model_tree = DecisionTreeClassifier(max_depth=5).fit(train_X, train_y)\n",
    "model_tree.score(test_X, test_y)"
   ]
  },
  {
   "cell_type": "code",
   "execution_count": 51,
   "metadata": {},
   "outputs": [
    {
     "data": {
      "text/plain": [
       "(<Figure size 432x288 with 1 Axes>,\n",
       " <AxesSubplot:xlabel='predicted label', ylabel='true label'>)"
      ]
     },
     "execution_count": 51,
     "metadata": {},
     "output_type": "execute_result"
    },
    {
     "data": {
      "image/png": "[encoded data removed]",
      "text/plain": [
       "<Figure size 432x288 with 1 Axes>"
      ]
     },
     "metadata": {
      "needs_background": "light"
     },
     "output_type": "display_data"
    }
   ],
   "source": [
    "cm = confusion_matrix(test_y, model_tree.predict(test_X))\n",
    "plot_confusion_matrix(cm)"
   ]
  },
  {
   "cell_type": "code",
   "execution_count": 58,
   "metadata": {},
   "outputs": [
    {
     "data": {
      "text/plain": [
       "0.9878475066906985"
      ]
     },
     "execution_count": 58,
     "metadata": {},
     "output_type": "execute_result"
    }
   ],
   "source": [
    "from sklearn.ensemble import AdaBoostClassifier\n",
    "\n",
    "model_ada = AdaBoostClassifier(DecisionTreeClassifier(max_depth=5), n_estimators=30).fit(train_X, train_y)\n",
    "model_ada.score(test_X, test_y)"
   ]
  },
  {
   "cell_type": "code",
   "execution_count": 59,
   "metadata": {},
   "outputs": [
    {
     "data": {
      "text/plain": [
       "(<Figure size 432x288 with 1 Axes>,\n",
       " <AxesSubplot:xlabel='predicted label', ylabel='true label'>)"
      ]
     },
     "execution_count": 59,
     "metadata": {},
     "output_type": "execute_result"
    },
    {
     "data": {
      "image/png": "[encoded data removed]",
      "text/plain": [
       "<Figure size 432x288 with 1 Axes>"
      ]
     },
     "metadata": {
      "needs_background": "light"
     },
     "output_type": "display_data"
    }
   ],
   "source": [
    "cm1 = confusion_matrix(test_y, model_ada.predict(test_X))\n",
    "plot_confusion_matrix(cm1)"
   ]
  },
  {
   "cell_type": "code",
   "execution_count": 52,
   "metadata": {},
   "outputs": [
    {
     "data": {
      "text/plain": [
       "0.9986618602872904"
      ]
     },
     "execution_count": 52,
     "metadata": {},
     "output_type": "execute_result"
    }
   ],
   "source": [
    "from sklearn.ensemble import RandomForestClassifier\n",
    "\n",
    "model_rforest = RandomForestClassifier().fit(train_X, train_y)\n",
    "model_rforest.score(test_X, test_y)"
   ]
  },
  {
   "cell_type": "code",
   "execution_count": 53,
   "metadata": {},
   "outputs": [
    {
     "data": {
      "text/plain": [
       "(<Figure size 432x288 with 1 Axes>,\n",
       " <AxesSubplot:xlabel='predicted label', ylabel='true label'>)"
      ]
     },
     "execution_count": 53,
     "metadata": {},
     "output_type": "execute_result"
    },
    {
     "data": {
      "image/png": "[encoded data removed]",
      "text/plain": [
       "<Figure size 432x288 with 1 Axes>"
      ]
     },
     "metadata": {
      "needs_background": "light"
     },
     "output_type": "display_data"
    }
   ],
   "source": [
    "cm2 = confusion_matrix(test_y, model_rforest.predict(test_X))\n",
    "plot_confusion_matrix(cm2)"
   ]
  },
  {
   "cell_type": "code",
   "execution_count": 62,
   "metadata": {},
   "outputs": [
    {
     "data": {
      "text/plain": [
       "(<Figure size 432x288 with 1 Axes>,\n",
       " <AxesSubplot:xlabel='predicted label', ylabel='true label'>)"
      ]
     },
     "execution_count": 62,
     "metadata": {},
     "output_type": "execute_result"
    },
    {
     "data": {
      "image/png": "[encoded data removed]",
      "text/plain": [
       "<Figure size 432x288 with 1 Axes>"
      ]
     },
     "metadata": {
      "needs_background": "light"
     },
     "output_type": "display_data"
    }
   ],
   "source": [
    "cm2 = confusion_matrix(y, model_rforest.predict(x)) # test the whole dataset \n",
    "plot_confusion_matrix(cm2)"
   ]
  }
 ],
 "metadata": {
  "interpreter": {
   "hash": "752e6d6c9cb54eb8b5395c817148e1415d6142987ac48a4b101c834d1edd5383"
  },
  "kernelspec": {
   "display_name": "eods-s22",
   "language": "python",
   "name": "eods-s22"
  },
  "language_info": {
   "codemirror_mode": {
    "name": "ipython",
    "version": 3
   },
   "file_extension": ".py",
   "mimetype": "text/x-python",
   "name": "python",
   "nbconvert_exporter": "python",
   "pygments_lexer": "ipython3",
   "version": "3.9.9"
  }
 },
 "nbformat": 4,
 "nbformat_minor": 2
}
